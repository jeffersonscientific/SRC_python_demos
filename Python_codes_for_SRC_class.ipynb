{
 "cells": [
  {
   "cell_type": "code",
   "execution_count": 1,
   "id": "2dff63ea",
   "metadata": {},
   "outputs": [],
   "source": [
    "%load_ext autoreload\n",
    "%autoreload 2\n",
    "%matplotlib inline"
   ]
  },
  {
   "cell_type": "code",
   "execution_count": 39,
   "id": "a1c36fb2",
   "metadata": {},
   "outputs": [],
   "source": [
    "import numpy\n",
    "import scipy\n",
    "import random\n",
    "import matplotlib as mpl\n",
    "import pylab as plt\n",
    "import time\n",
    "import numba\n",
    "#\n",
    "import multiprocessing as mpp\n",
    "import multiprocess as mp\n",
    "#\n",
    "import calc_pi as cp\n",
    "#"
   ]
  },
  {
   "cell_type": "markdown",
   "id": "cf1edaa7",
   "metadata": {},
   "source": [
    "# Python: (some) best practices, optimizations, and parallelization"
   ]
  },
  {
   "cell_type": "markdown",
   "id": "b13f9635",
   "metadata": {},
   "source": [
    "# Calculate Pi\n",
    "\n",
    "Here, we demonstrate an area based, Reno-Nevada (poor person's Monte Carlo) method to estimate $pi$. We draw random numbers over a square with sides $L = 2R = 2$ and count the fraction of points that fall inside an enclosed circle with radius $R$. Eventually we will add a figure.\n",
    "\n",
    "The gist of the formula is,\n",
    "\n",
    "$\\frac{N_{captured}}{N_{total}} = \\frac {\\pi R^2}{(2R)^2}$\n",
    "\n",
    "\n",
    "Use this little PI calculator to illustrate methods of optimnization and parallelization. These will include:\n",
    "\n",
    "1. Loop-loop (nested loop), which is a trainwreck for Python...\n",
    "2. @numba.jit the loop-loop\n",
    "3. Vectorize the random numbers\n",
    "4. Parallelize various ways.\n",
    "  1. Process() ?\n",
    "  2. multiprocessing.Pool().map() ( and variants)\n",
    "  3. mpi4py ?\n",
    "  4. Embarrasingly parallel approach?\n",
    "\n"
   ]
  },
  {
   "cell_type": "markdown",
   "id": "e3959f88",
   "metadata": {},
   "source": [
    "### First draft implementation\n",
    "- Start with the simplest implementation\n",
    "- NOTE: this is generally speaking a pretty terrible way to use Python\n",
    "- But it illustrates all the main things.\n",
    "- We will discuss how to improve it later."
   ]
  },
  {
   "cell_type": "code",
   "execution_count": 14,
   "id": "1f2777b5",
   "metadata": {},
   "outputs": [],
   "source": [
    "\n",
    "# The base function:\n",
    "def calc_pi_nogil(N):\n",
    "    M = 0\n",
    "    for i in range(int(N)):\n",
    "        x = random.uniform(-1, 1)\n",
    "        y = random.uniform(-1, 1)\n",
    "        if x**2 + y**2 < 1:\n",
    "            M += 1\n",
    "    return 4 * M / N"
   ]
  },
  {
   "cell_type": "code",
   "execution_count": 15,
   "id": "844b6122",
   "metadata": {
    "scrolled": false
   },
   "outputs": [
    {
     "name": "stdout",
     "output_type": "stream",
     "text": [
      "** dt: 0.3353710174560547\n",
      "** Pi vals: \n",
      "1000.0 :: 3.12\n",
      "11000.0 :: 3.14\n",
      "21000.0 :: 3.1156190476190475\n",
      "31000.0 :: 3.1388387096774193\n",
      "41000.0 :: 3.1341463414634148\n",
      "51000.0 :: 3.1414901960784314\n",
      "61000.0 :: 3.1419016393442623\n",
      "71000.0 :: 3.1420845070422536\n",
      "81000.0 :: 3.141185185185185\n",
      "91000.0 :: 3.1454945054945056\n"
     ]
    }
   ],
   "source": [
    "# This is the simplest, most straight forward\n",
    "#Nits_max = 1000\n",
    "#\n",
    "#\n",
    "t1 = time.time()\n",
    "PIs = []\n",
    "for N_max in numpy.arange(1E3, 1E5, 1E4):\n",
    "    #print(f'*** Computing Pi for {N_max}')\n",
    "    PIs += [[N_max, calc_pi_nogil(int(N_max))]]\n",
    "dt_ll = time.time()-t1\n",
    "print(f'** dt: {dt_ll}')\n",
    "#\n",
    "print('** Pi vals: ')\n",
    "for n,pi in PIs:\n",
    "    print(f'{n} :: {pi}')\n",
    "#\n"
   ]
  },
  {
   "cell_type": "markdown",
   "id": "82e16a9d",
   "metadata": {},
   "source": [
    "## List comprehensions\n",
    "\n",
    "A list comprehension is a more compact, some will say more intuitive and readable (others will disagree with one or more of those characteriztions) way to construct a list in Python. List comprehensions are usually faster than aggregating,  or even creating a list to size and assiging values (ie, PIs=list(NN_max) vs PIs=[]), albeit not always significantly."
   ]
  },
  {
   "cell_type": "code",
   "execution_count": 16,
   "id": "85053962",
   "metadata": {},
   "outputs": [
    {
     "name": "stdout",
     "output_type": "stream",
     "text": [
      "** dt: 0.3392479419708252\n",
      "** Pi vals: \n",
      "1000.0 :: 3.24\n",
      "11000.0 :: 3.1538181818181816\n",
      "21000.0 :: 3.1363809523809523\n",
      "31000.0 :: 3.1486451612903226\n",
      "41000.0 :: 3.1366829268292684\n",
      "51000.0 :: 3.1430588235294117\n",
      "61000.0 :: 3.140065573770492\n",
      "71000.0 :: 3.1547605633802815\n",
      "81000.0 :: 3.141925925925926\n",
      "91000.0 :: 3.134813186813187\n"
     ]
    }
   ],
   "source": [
    "# List comprehension way (a little bit faster...)\n",
    "# this:\n",
    "# X = []\n",
    "# for k in range(n):\n",
    "#     X+=[f(k)]\n",
    "# becomes:\n",
    "# X = [f(k) for k in range(n)]\n",
    "#\n",
    "t1 = time.time()\n",
    "PIs = [[N_max, calc_pi_nogil(int(N_max))] for N_max in numpy.arange(1E3, 1E5, 1E4)]\n",
    "print(f'** dt: {time.time()-t1}')\n",
    "#\n",
    "print('** Pi vals: ')\n",
    "for n,pi in PIs:\n",
    "    print(f'{n} :: {pi}')\n",
    "#\n"
   ]
  },
  {
   "cell_type": "markdown",
   "id": "42a79a45",
   "metadata": {},
   "source": [
    "## Vectorization\n",
    "- Pass a sequence (vector) of values to the processor, rather than one variable at a time\n",
    "- Makes _MUCH_ better use of the processers cache(s)\n",
    "- Often simplified syntax _AND_ much improved performance.\n",
    "\n",
    "Let's rewrite calc_pi(), a little more creatively.\n"
   ]
  },
  {
   "cell_type": "code",
   "execution_count": 18,
   "id": "56c1b7d8",
   "metadata": {},
   "outputs": [],
   "source": [
    "def calc_pi_vec(N):\n",
    "    #M = 0\n",
    "    # spell it out, then consolidate...\n",
    "    #X = numpy.random.random(N)\n",
    "    #Y = numpy.random.random(N)\n",
    "    #Z = X**2 + Y**2\n",
    "    #\n",
    "    # All of that in one line...\n",
    "    # You should experiment with some of this syntax to evaluate performance.\n",
    "    # this looks much faster than numpy.square()\n",
    "#    Z = numpy.sum( numpy.random.random( (2,N) )**2. , axis=0 )\n",
    "#    #Z = numpy.sum( numpy.square( numpy.random.random( (2,N) ) ), axis=0 )\n",
    "#    #\n",
    "#    # as a little trick, sum the index of (Z<1)\n",
    "#    M = numpy.sum((Z<1))\n",
    "    \n",
    "    M = numpy.sum( (numpy.sum( numpy.random.random( (2,N) )**2. , axis=0 ))<1 )\n",
    "    #\n",
    "    return 4.0*M/N\n"
   ]
  },
  {
   "cell_type": "markdown",
   "id": "fa829bc0",
   "metadata": {},
   "source": [
    "## numba\n",
    "- Use `@jit` to pre-compile the function.\n",
    "- This often works _REALLY_ well for simple, just-math functions. Numpy containers, internal functions, etc. have potential to confuse `numba`\n",
    "- So numba is often a way to make a really bad code (eg, a loop-loop), really good, but it can be complicated to make a pretty-good code much better.\n",
    "- `numba` also has some compile-time options, which we will show below\n"
   ]
  },
  {
   "cell_type": "code",
   "execution_count": 17,
   "id": "40edf8fb",
   "metadata": {},
   "outputs": [],
   "source": [
    "## Compile with Numba:\n",
    "#\n",
    "@numba.jit()\n",
    "def calc_pi_1(N):\n",
    "    M = 0\n",
    "    for i in range(int(N)):\n",
    "        x = random.uniform(-1, 1)\n",
    "        y = random.uniform(-1, 1)\n",
    "        if x**2 + y**2 < 1:\n",
    "            M += 1\n",
    "    return 4 * M / N\n",
    "\n",
    "@numba.jit(nopython=True)\n",
    "def calc_pi_2(N):\n",
    "    M = 0\n",
    "    for i in range(int(N)):\n",
    "        x = random.uniform(-1, 1)\n",
    "        y = random.uniform(-1, 1)\n",
    "        if x**2 + y**2 < 1:\n",
    "            M += 1\n",
    "    return 4 * M / N\n",
    "\n",
    "@numba.jit(nopython=True, nogil=True)\n",
    "def calc_pi_3(N):\n",
    "    M = 0\n",
    "    for i in range(int(N)):\n",
    "        x = random.uniform(-1, 1)\n",
    "        y = random.uniform(-1, 1)\n",
    "        if x**2 + y**2 < 1:\n",
    "            M += 1\n",
    "    return 4 * M / N"
   ]
  },
  {
   "cell_type": "markdown",
   "id": "333bfe32",
   "metadata": {},
   "source": [
    "## Benchmark\n",
    "- Compare performance for loop-loop, vectorization, and versions of `numba.jit`\n",
    "- Note that `numba.jit` performs much better for this example. \n",
    "- There are likely some subtlties in the vectorization that can be resolved, but...\n",
    "- Mostly, this is because our kernel functions are just pure Python math, which are put through a simple loop If there were other libries included in those functions, eg. `random.random()` let alone anything `numpy`, `numba` would likely throw a bunch of warnings and the acceleration would be reduced."
   ]
  },
  {
   "cell_type": "code",
   "execution_count": 19,
   "id": "d04e299a",
   "metadata": {},
   "outputs": [
    {
     "name": "stdout",
     "output_type": "stream",
     "text": [
      "f = calc_pi_loop_loop\n",
      "** dt: 0.9401040077209473\n",
      "** pi: 3.14022\n",
      "\n",
      "f = calc_pi_vec\n",
      "** dt: 0.06090283393859863\n",
      "** pi: 3.138364\n",
      "\n",
      "f = calc_pi_jit\n",
      "** dt: 0.011507034301757812\n",
      "** pi: 3.142144\n",
      "\n",
      "f = calc_pi_jit_np\n",
      "** dt: 0.010651111602783203\n",
      "** pi: 3.141128\n",
      "\n",
      "f = calc_pi_jit_ng\n",
      "** dt: 0.011414051055908203\n",
      "** pi: 3.14242\n",
      "\n",
      "f = calc_pi_jit_ng_np\n",
      "** dt: 0.010505914688110352\n",
      "** pi: 3.142032\n",
      "\n"
     ]
    }
   ],
   "source": [
    "# try the different jit-compile options:\n",
    "#\n",
    "N_max=1E6\n",
    "for f in (cp.calc_pi_loop_loop, cp.calc_pi_vec, cp.calc_pi_jit, cp.calc_pi_jit_np, cp.calc_pi_jit_ng, cp.calc_pi_jit_ng_np):\n",
    "    # \n",
    "    # do a quick run, so we dont' count compile time.\n",
    "    dummy_var = f(500)\n",
    "    t1 = time.time()\n",
    "    #PIs = [[N_max, f(int(N_max))] for N_max in numpy.arange(1E3, 1E5, 1E4)]\n",
    "    pi = f(int(N_max))\n",
    "    print(f'f = {f.__name__}')\n",
    "    print(f'** dt: {time.time()-t1}')\n",
    "    print(f'** pi: {pi}\\n')\n",
    "    #\n",
    "#     print('** Pi vals: ')\n",
    "#     for n,pi in PIs:\n",
    "#         print(f'{n} :: {pi}')"
   ]
  },
  {
   "cell_type": "markdown",
   "id": "d2e03f5b",
   "metadata": {},
   "source": [
    "## Parallel compute: Multiprocessing\n",
    "- Process(): The simplest example, nominally applies well to this example\n",
    "- Pool(): Sort of a dumb way to use a Pool(), but we're in the business of making examples\n",
    "- Queue(): I've never used a queueu, but...\n",
    "\n",
    "**NOTE:** Multiprocessing will _not_ work in notebooks. Parallelized functions must be off-loaded to a .py module, so that the function can be properly referenced and copied when it is serialized.\n",
    "\n",
    "## Multiprocess: Multiprocessing's multi-node tricky friend\n",
    "- add mpi-pool() ?\n",
    "\n",
    "## Embarrasingly parallel\n",
    "- Kind of a dumb example, unless we make the problem much bigger. Maybe Mandelbrot?\n",
    "\n",
    "\n",
    "## Start with Multiprocessing:"
   ]
  },
  {
   "cell_type": "markdown",
   "id": "515be7b1",
   "metadata": {},
   "source": [
    "## MPP structural elements\n",
    "- Pipe()\n",
    "- Process()\n",
    "- Pool()\n",
    "- Other things too..."
   ]
  },
  {
   "cell_type": "code",
   "execution_count": 46,
   "id": "29e4d4fc",
   "metadata": {},
   "outputs": [],
   "source": [
    "# MPP Process()\n",
    "#. it is possible that the syntax for this has changed, which is to say that this attempt and even the \n",
    "#. line-for-line example from the docs does not appear to run. \n",
    "# Note that these codes will not run in parallel, but their off-notebook counterparts will.\n",
    "\n",
    "# try this:\n",
    "def calc_pi_pipe(N, conn):\n",
    "    M = 0\n",
    "    for i in range(int(N)):\n",
    "        x = random.uniform(-1, 1)\n",
    "        y = random.uniform(-1, 1)\n",
    "        if x**2 + y**2 < 1:\n",
    "            M += 1\n",
    "    #return 4 * M / N\n",
    "    conn.send([N, 4*M/N])\n",
    "    conn.close()\n",
    "\n",
    "def pipe_wrapper(f, n_max, conn):\n",
    "    pi = f(n_max)\n",
    "    #print('*** ', pi)\n",
    "    conn.send([n_max, pi])\n",
    "    conn.close()\n",
    "    #\n",
    "    #return None\n",
    "    \n",
    "\n",
    "#def f_process(f=None, n_processes=1, N_max=1000, *args):\n",
    "def f_process(f=None, n_processes=1, N_max=1000):\n",
    "    # This is a sort of stupid way to write this function, but it gets the job done.\n",
    "    # production applications will probably be either much better generalized or much more specific.\n",
    "    #\n",
    "    #args = [f, N_max] + list(args)\n",
    "    #\n",
    "    pipes = [mpp.Pipe() for k in range(n_processes)]\n",
    "    Ps = [mpp.Process(target=pipe_wrapper, args=tuple([f, N_max, p2])) for p1,p2 in pipes]\n",
    "    #Ps = [mpp.Process(target=calc_pi_pipe, args=tuple([N_max, p2])) for p1,p2 in pipes]\n",
    "    #\n",
    "    for (p1, p2), p in zip(pipes, Ps):\n",
    "        print(\"*** Starting process...\", p, p1, p2)\n",
    "        p.start()\n",
    "        #p1.recv()\n",
    "        p.join()\n",
    "\n",
    "        \n",
    "#    for p in Ps:\n",
    "#        p.join()\n",
    "#     print('*** jobs started, now recv()')\n",
    "#     for p in Ps:\n",
    "#         p.close()\n",
    "#     pis = [p1.recv() for p1, p2 in pipes]\n",
    "    #\n",
    "    pis = [p1.recv() for p1, p2 in pipes]\n",
    "    #\n",
    "    # Ugh...\n",
    "    # TODO: \n",
    "    #. to get results from this, each process either needs to point somewhere for an output,\n",
    "    #. you can pass a queue a parameter to collect output, our you have to set up Pipe() objects.\n",
    "    #Results = [p.get() for p in Ps]\n",
    "    #\n",
    "    #return Results\n",
    "    \n",
    "    return pis\n",
    "    \n",
    "    "
   ]
  },
  {
   "cell_type": "code",
   "execution_count": 52,
   "id": "610a0558",
   "metadata": {},
   "outputs": [
    {
     "name": "stdout",
     "output_type": "stream",
     "text": [
      "***  3.141894\n",
      "*** 4cpus [3.1413316]\n",
      "*** 1cpu 3.1409176\n",
      "** using calc_pi() with the recursive bit\n",
      "*** [1]: 3.1422516\n",
      "*** [2]: 3.1419764\n",
      "*** [3]: 3.1409627140962715\n",
      "*** [4]: 3.1417336000000002\n"
     ]
    }
   ],
   "source": [
    "N=int(1E7)\n",
    "print('*** ', cp.calc_pi_jit(N))\n",
    "print('*** 4cpus', cp.pool_wrapper(f=cp.calc_pi_jit, ncpus=4, f_agg=numpy.mean, N=N))\n",
    "print('*** 1cpu', cp.pool_wrapper(f=cp.calc_pi_jit, ncpus=1, N=N))\n",
    "#\n",
    "# now, try the recursive wrapper:\n",
    "print('** using calc_pi() with the recursive bit')\n",
    "for n in range(1,5):\n",
    "    print(f'*** [{n}]: {cp.calc_pi(N, n)}')\n",
    "\n"
   ]
  },
  {
   "cell_type": "markdown",
   "id": "7343bdee",
   "metadata": {},
   "source": [
    "### Examples of using Process(), Pipe(), etc.\n",
    "- These do not actually parallelize...\n",
    "- But we illustrate how to use some of these classes and functions.\n"
   ]
  },
  {
   "cell_type": "code",
   "execution_count": null,
   "id": "a856624f",
   "metadata": {},
   "outputs": [],
   "source": [
    "#pi = f_process(calc_pi_nogil, 4, N_max=10000)\n",
    "pi = f_process(calc_pi_vec, 4, N_max=10000)\n",
    "#\n",
    "\n",
    "p1, p2 = mpp.Pipe()\n",
    "print('** ', pipe_wrapper(calc_pi_vec, 500, p2))\n",
    "print('** **: ', p1.recv())\n",
    "\n",
    "p1,p2 = mpp.Pipe()\n",
    "print('** ', calc_pi_pipe(500, p2))\n",
    "#print('** ', pipe_wrapper(calc_pi_vec, 500, p2))\n",
    "print('** **: ', p1.recv())\n"
   ]
  },
  {
   "cell_type": "code",
   "execution_count": 53,
   "id": "47a46b55",
   "metadata": {},
   "outputs": [
    {
     "name": "stdout",
     "output_type": "stream",
     "text": [
      "*** pi=3.1407748, dt=6.844274044036865\n",
      "*** pi=3.141554, dt=6.82082724571228\n"
     ]
    }
   ],
   "source": [
    "f_pi = cp.calc_pi_loop_loop\n",
    "N_max=int(1E7)\n",
    "#\n",
    "t1 = time.time()\n",
    "pi=f_pi(N_max)\n",
    "print(f'*** pi={pi}, dt={time.time()-t1}' )\n",
    "#\n",
    "def f_pipe(f, pipe, *args):\n",
    "    x = f(*args)\n",
    "    pipe.send(x)\n",
    "    pipe.close()\n",
    "\n",
    "# create a comm/Pipe() pair:\n",
    "p1, p2 = mpp.Pipe()\n",
    "\n",
    "t1 = time.time()\n",
    "P = mpp.Process(target=f_pipe, args=[cp.calc_pi_loop_loop, p2, int(N_max)])\n",
    "#\n",
    "# NOTE: in our notebook, we use P.run(), which is serial. For parallel function,\n",
    "#  we need to move the code to a .py module and use P.start()\n",
    "P.run()\n",
    "pi = p1.recv()\n",
    "\n",
    "P.close()\n",
    "p1.close()\n",
    "p2.close()\n",
    "\n",
    "print(f'*** pi={pi}, dt={time.time()-t1}' )\n",
    "#"
   ]
  },
  {
   "cell_type": "code",
   "execution_count": null,
   "id": "efae7220",
   "metadata": {},
   "outputs": [],
   "source": []
  },
  {
   "cell_type": "code",
   "execution_count": null,
   "id": "b05523c2",
   "metadata": {},
   "outputs": [],
   "source": []
  },
  {
   "cell_type": "code",
   "execution_count": null,
   "id": "d4da23b2",
   "metadata": {},
   "outputs": [],
   "source": []
  },
  {
   "cell_type": "code",
   "execution_count": null,
   "id": "9ceb9703",
   "metadata": {},
   "outputs": [],
   "source": []
  },
  {
   "cell_type": "code",
   "execution_count": null,
   "id": "668da9bb",
   "metadata": {},
   "outputs": [],
   "source": [
    "# Now, try with the nested recursive bit:\n",
    "t1 = time.time()\n",
    "pi_v = cp.calc_pi_vec(N_max*10)\n",
    "print(f'vector ({pi_v}):: {time.time()-t1}')\n",
    "\n",
    "t1 = time.time()\n",
    "pi_vr = cp.calc_pi_vec_mpp(N_max*10, ncpus=4)\n",
    "print(f'vector_mpp ({pi_vr}):: {time.time()-t1}')\n",
    "#"
   ]
  },
  {
   "cell_type": "code",
   "execution_count": 70,
   "id": "02e44649",
   "metadata": {},
   "outputs": [
    {
     "name": "stdout",
     "output_type": "stream",
     "text": [
      "pool[2]: 6.28344\n",
      "pool[2]: 6.2815840000000005\n",
      "pool[2]: 6.277407999999999\n",
      "pool[2]: 6.283088\n",
      "pool[2]: 6.290144\n",
      "pool[2]: 6.2790479999999995\n",
      "pool[2]: 6.282056\n",
      "pool[2]: 6.282696\n",
      "1.45 s ± 13.9 ms per loop (mean ± std. dev. of 7 runs, 1 loop each)\n",
      "pool[3]: 9.433653433653433\n",
      "pool[3]: 9.41874941874942\n",
      "pool[3]: 9.424245424245424\n",
      "pool[3]: 9.429777429777431\n",
      "pool[3]: 9.42063342063342\n",
      "pool[3]: 9.427713427713428\n",
      "pool[3]: 9.42942942942943\n",
      "pool[3]: 9.423633423633424\n",
      "1.74 s ± 212 ms per loop (mean ± std. dev. of 7 runs, 1 loop each)\n",
      "pool[4]: 12.556607999999999\n",
      "pool[4]: 12.569152\n",
      "pool[4]: 12.559328\n",
      "pool[4]: 12.56368\n",
      "pool[4]: 12.572464\n",
      "pool[4]: 12.562032\n",
      "pool[4]: 12.571424\n",
      "pool[4]: 12.571488\n",
      "1.77 s ± 38.6 ms per loop (mean ± std. dev. of 7 runs, 1 loop each)\n"
     ]
    }
   ],
   "source": [
    "# try the jit recursive bit and introduce timeit:\n",
    "for n in range(1,5):\n",
    "    #%timeit print(f'mpp[{n}]: {cp.calc_pi(1E6, n)}')\n",
    "    %timeit print(f'pool[{n}]: {cp.calc_pi_pool(ncpu=n, N_max=int(1E6/n))}')\n",
    "#"
   ]
  },
  {
   "cell_type": "code",
   "execution_count": 77,
   "id": "d054c9ca",
   "metadata": {},
   "outputs": [
    {
     "name": "stdout",
     "output_type": "stream",
     "text": [
      "*** mpp.cpu_count(): 8\n",
      "mpp[1]: 3.1413636\n",
      "** time[1]: 7.235046863555908\n",
      "pool[1]: 3.1415188\n",
      "** time[1]: 8.147811651229858\n",
      "\n",
      "\n",
      "mpp[2]: 3.1406739999999997\n",
      "** time[2]: 2.8564717769622803\n",
      "pool[2]: 3.1426856\n",
      "** time[2]: 4.979939937591553\n",
      "\n",
      "\n",
      "mpp[3]: 3.1423607142360717\n",
      "** time[3]: 4.27752423286438\n",
      "pool[3]: 3.1405983140598313\n",
      "** time[3]: 4.390532732009888\n",
      "\n",
      "\n",
      "mpp[4]: 3.1418424\n",
      "** time[4]: 5.45414400100708\n",
      "pool[4]: 3.1426004\n",
      "** time[4]: 3.8474230766296387\n",
      "\n",
      "\n",
      "mpp[5]: 3.1414239999999998\n",
      "** time[5]: 6.515172958374023\n",
      "pool[5]: 3.1422803999999998\n",
      "** time[5]: 4.948551177978516\n",
      "\n",
      "\n",
      "mpp[6]: 3.141696056678423\n",
      "** time[6]: 7.768233776092529\n",
      "pool[6]: 3.1418792567517024\n",
      "** time[6]: 4.1648828983306885\n",
      "\n",
      "\n"
     ]
    }
   ],
   "source": [
    "# try the jit recursive bit and introduce timeit:\n",
    "print(f'*** mpp.cpu_count(): {mpp.cpu_count()}')\n",
    "NN = int(1E7)\n",
    "for n in range(1,7):\n",
    "    t0 = time.time()\n",
    "    print(f'mpp[{n}]: {cp.calc_pi(NN, n)}')\n",
    "    print(f'** time[{n}]: {time.time()-t0}')\n",
    "    #\n",
    "    t0 = time.time()\n",
    "    print(f'pool[{n}]: {cp.calc_pi_pool(ncpu=n, N_max=int(NN/n))}')\n",
    "    print(f'** time[{n}]: {time.time()-t0}')\n",
    "    print('\\n')\n",
    "#"
   ]
  },
  {
   "cell_type": "code",
   "execution_count": 78,
   "id": "29ffadf9",
   "metadata": {},
   "outputs": [
    {
     "name": "stdout",
     "output_type": "stream",
     "text": [
      "*** pi=3.1420792, dt=7.182585716247559\n",
      "*** Single process, off-loaded:\n",
      "*** pi=3.141752, dt=8.994734764099121\n",
      "*** For multiple (4) processes?\n",
      "** start 0\n",
      "*** is_alive:  True\n",
      "** start 1\n",
      "*** is_alive:  True\n",
      "** start 2\n",
      "*** is_alive:  True\n",
      "** start 3\n",
      "*** is_alive:  True\n",
      "*** [3.1415904, 3.1430112, 3.1409552, 3.1414448], 3.1417504000000003, 3.9756860733032227\n"
     ]
    }
   ],
   "source": [
    "N_max = int(1E7)\n",
    "f_pi = cp.calc_pi_loop_loop\n",
    "#f_pi = cp.calc_pi_vec\n",
    "t1 = time.time()\n",
    "pi=f_pi(N_max)\n",
    "print(f'*** pi={pi}, dt={time.time()-t1}' )\n",
    "#\n",
    "print('*** Single process, off-loaded:')\n",
    "# Now, do a single off-loaded process, for demo purposes\n",
    "p1, p2 = mpp.Pipe()\n",
    "t1 = time.time()\n",
    "P = mpp.Process(target=cp.f_pipe, args=[cp.calc_pi_loop_loop, p2, int(N_max)])\n",
    "#P.run()\n",
    "#print(\"now start...\")\n",
    "P.start()\n",
    "#print(\"now join...\")\n",
    "P.join()\n",
    "pi2 = p1.recv()\n",
    "#print(\" should be receivec...\")\n",
    "#\n",
    "P.close()\n",
    "p1.close()\n",
    "p2.close()\n",
    "\n",
    "print(f'*** pi={pi2}, dt={time.time()-t1}' )\n",
    "#\n",
    "# now, add some more processes:\n",
    "# NOTE: I think that, in order to start() a process, it must be defined in an external module,\n",
    "# \"accessible by __main__\". It's not totally clear what the requirement is...\n",
    "ncpus = 4\n",
    "print(f'*** For multiple ({ncpus}) processes?')\n",
    "t1=time.time()\n",
    "\n",
    "pipes = [mpp.Pipe() for k in range(ncpus)]\n",
    "Procs = [mpp.Process(target=cp.f_pipe, args=[cp.calc_pi_loop_loop, p2, int(N_max/ncpus)]) for p1,p2 in pipes]\n",
    "#\n",
    "for k,P in enumerate(Procs):\n",
    "    print(f'** start {k}')\n",
    "    P.start()\n",
    "    print('*** is_alive: ', P.is_alive())\n",
    "    #P.join()\n",
    "    #print('*** is_alive: ', P.is_alive())\n",
    "    #P.run()\n",
    "    #print('*** is_alive: ', P.is_alive())\n",
    "for P in Procs:\n",
    "    P.join()\n",
    "    \n",
    "pis = [p1.recv() for p1,p2 in pipes]\n",
    "#\n",
    "for (p1,p2),P in zip(pipes,Procs):\n",
    "    p1.close()\n",
    "    p2.close()\n",
    "    P.close()\n",
    "\n",
    "print(f'*** {pis}, {numpy.mean(pis)}, {time.time()-t1}')"
   ]
  },
  {
   "cell_type": "code",
   "execution_count": null,
   "id": "3536cd6f",
   "metadata": {},
   "outputs": [],
   "source": []
  }
 ],
 "metadata": {
  "kernelspec": {
   "display_name": "Python 3",
   "language": "python",
   "name": "python3"
  },
  "language_info": {
   "codemirror_mode": {
    "name": "ipython",
    "version": 3
   },
   "file_extension": ".py",
   "mimetype": "text/x-python",
   "name": "python",
   "nbconvert_exporter": "python",
   "pygments_lexer": "ipython3",
   "version": "3.8.8"
  }
 },
 "nbformat": 4,
 "nbformat_minor": 5
}
