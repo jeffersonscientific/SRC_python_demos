{
 "cells": [
  {
   "cell_type": "code",
   "execution_count": 115,
   "id": "2dff63ea",
   "metadata": {},
   "outputs": [
    {
     "name": "stdout",
     "output_type": "stream",
     "text": [
      "The autoreload extension is already loaded. To reload it, use:\n",
      "  %reload_ext autoreload\n"
     ]
    }
   ],
   "source": [
    "%load_ext autoreload\n",
    "%autoreload 2\n",
    "%matplotlib inline"
   ]
  },
  {
   "cell_type": "code",
   "execution_count": 120,
   "id": "a1c36fb2",
   "metadata": {},
   "outputs": [],
   "source": [
    "import numpy\n",
    "import scipy\n",
    "import random\n",
    "import matplotlib as mpl\n",
    "import pylab as plt\n",
    "import time\n",
    "import numba\n",
    "#\n",
    "import multiprocessing as mpp\n",
    "import multiprocess as mp\n",
    "#\n",
    "import calc_pi as cp\n",
    "import calc_mandelbrot as cmb\n",
    "#"
   ]
  },
  {
   "cell_type": "markdown",
   "id": "cf1edaa7",
   "metadata": {},
   "source": [
    "# Python: (some) best practices, optimizations, and parallelization"
   ]
  },
  {
   "cell_type": "markdown",
   "id": "b13f9635",
   "metadata": {},
   "source": [
    "# Calculate Pi\n",
    "\n",
    "Here, we demonstrate an area based, Reno-Nevada (poor person's Monte Carlo) method to estimate $pi$. We draw random numbers over a square with sides $L = 2R = 2$ and count the fraction of points that fall inside an enclosed circle with radius $R$. Eventually we will add a figure.\n",
    "\n",
    "The gist of the formula is,\n",
    "\n",
    "$\\frac{N_{captured}}{N_{total}} = \\frac {\\pi R^2}{(2R)^2}$\n",
    "\n",
    "\n",
    "Use this little PI calculator to illustrate methods of optimnization and parallelization. These will include:\n",
    "\n",
    "1. Loop-loop (nested loop), which is a trainwreck for Python...\n",
    "2. @numba.jit the loop-loop\n",
    "3. Vectorize the random numbers\n",
    "4. Parallelize various ways.\n",
    "  1. Process() ?\n",
    "  2. multiprocessing.Pool().map() ( and variants)\n",
    "  3. mpi4py ?\n",
    "  4. Embarrasingly parallel approach?\n",
    "\n"
   ]
  },
  {
   "cell_type": "markdown",
   "id": "e3959f88",
   "metadata": {},
   "source": [
    "### First draft implementation\n",
    "- Start with the simplest implementation\n",
    "- NOTE: this is generally speaking a pretty terrible way to use Python\n",
    "- But it illustrates all the main things.\n",
    "- We will discuss how to improve it later."
   ]
  },
  {
   "cell_type": "code",
   "execution_count": 14,
   "id": "1f2777b5",
   "metadata": {},
   "outputs": [],
   "source": [
    "\n",
    "# The base function:\n",
    "def calc_pi_nogil(N):\n",
    "    M = 0\n",
    "    for i in range(int(N)):\n",
    "        x = random.uniform(-1, 1)\n",
    "        y = random.uniform(-1, 1)\n",
    "        if x**2 + y**2 < 1:\n",
    "            M += 1\n",
    "    return 4 * M / N"
   ]
  },
  {
   "cell_type": "code",
   "execution_count": 15,
   "id": "844b6122",
   "metadata": {
    "scrolled": false
   },
   "outputs": [
    {
     "name": "stdout",
     "output_type": "stream",
     "text": [
      "** dt: 0.3353710174560547\n",
      "** Pi vals: \n",
      "1000.0 :: 3.12\n",
      "11000.0 :: 3.14\n",
      "21000.0 :: 3.1156190476190475\n",
      "31000.0 :: 3.1388387096774193\n",
      "41000.0 :: 3.1341463414634148\n",
      "51000.0 :: 3.1414901960784314\n",
      "61000.0 :: 3.1419016393442623\n",
      "71000.0 :: 3.1420845070422536\n",
      "81000.0 :: 3.141185185185185\n",
      "91000.0 :: 3.1454945054945056\n"
     ]
    }
   ],
   "source": [
    "# This is the simplest, most straight forward=\n",
    "#\n",
    "t1 = time.time()\n",
    "PIs = []\n",
    "for N_max in numpy.arange(1E3, 1E5, 1E4):\n",
    "    #print(f'*** Computing Pi for {N_max}')\n",
    "    PIs += [[N_max, calc_pi_nogil(int(N_max))]]\n",
    "dt_ll = time.time()-t1\n",
    "print(f'** dt: {dt_ll}')\n",
    "#\n",
    "print('** Pi vals: ')\n",
    "for n,pi in PIs:\n",
    "    print(f'{n} :: {pi}')\n",
    "#\n"
   ]
  },
  {
   "cell_type": "markdown",
   "id": "82e16a9d",
   "metadata": {},
   "source": [
    "## Some optimizations\n",
    "\n",
    "\n",
    "## List comprehensions\n",
    "\n",
    "A list comprehension is a more compact, some will say more intuitive and readable (others will disagree with one or more of those characteriztions) way to construct a list in Python. List comprehensions are usually faster than aggregating,  or even creating a list to size and assiging values (ie, PIs=list(NN_max) vs PIs=[]), albeit not always significantly."
   ]
  },
  {
   "cell_type": "code",
   "execution_count": 16,
   "id": "85053962",
   "metadata": {},
   "outputs": [
    {
     "name": "stdout",
     "output_type": "stream",
     "text": [
      "** dt: 0.3392479419708252\n",
      "** Pi vals: \n",
      "1000.0 :: 3.24\n",
      "11000.0 :: 3.1538181818181816\n",
      "21000.0 :: 3.1363809523809523\n",
      "31000.0 :: 3.1486451612903226\n",
      "41000.0 :: 3.1366829268292684\n",
      "51000.0 :: 3.1430588235294117\n",
      "61000.0 :: 3.140065573770492\n",
      "71000.0 :: 3.1547605633802815\n",
      "81000.0 :: 3.141925925925926\n",
      "91000.0 :: 3.134813186813187\n"
     ]
    }
   ],
   "source": [
    "# List comprehension way (a little bit faster...)\n",
    "# this:\n",
    "# X = []\n",
    "# for k in range(n):\n",
    "#     X+=[f(k)]\n",
    "# becomes:\n",
    "# X = [f(k) for k in range(n)]\n",
    "#\n",
    "t1 = time.time()\n",
    "PIs = [[N_max, calc_pi_nogil(int(N_max))] for N_max in numpy.arange(1E3, 1E5, 1E4)]\n",
    "print(f'** dt: {time.time()-t1}')\n",
    "#\n",
    "print('** Pi vals: ')\n",
    "for n,pi in PIs:\n",
    "    print(f'{n} :: {pi}')\n",
    "#\n"
   ]
  },
  {
   "cell_type": "markdown",
   "id": "42a79a45",
   "metadata": {},
   "source": [
    "## Vectorization\n",
    "- Probably first, most reliable and stable optimization\n",
    "- Pass a sequence (vector) of values to the processor, rather than one variable at a time\n",
    "- Makes _MUCH_ better use of the processers cache(s)\n",
    "- Often simplified syntax _AND_ much improved performance.\n",
    "\n",
    "Let's rewrite calc_pi(), a little more creatively.\n"
   ]
  },
  {
   "cell_type": "code",
   "execution_count": 18,
   "id": "56c1b7d8",
   "metadata": {},
   "outputs": [],
   "source": [
    "def calc_pi_vec(N):\n",
    "    #M = 0\n",
    "    # spell it out, then consolidate...\n",
    "    #X = numpy.random.random(N)\n",
    "    #Y = numpy.random.random(N)\n",
    "    #Z = X**2 + Y**2\n",
    "    #\n",
    "    # All of that in one line...\n",
    "    # You should experiment with some of this syntax to evaluate performance.\n",
    "    # this looks much faster than numpy.square()\n",
    "#    Z = numpy.sum( numpy.random.random( (2,N) )**2. , axis=0 )\n",
    "#    #Z = numpy.sum( numpy.square( numpy.random.random( (2,N) ) ), axis=0 )\n",
    "#    #\n",
    "#    # as a little trick, sum the index of (Z<1)\n",
    "#    M = numpy.sum((Z<1))\n",
    "    \n",
    "    M = numpy.sum( (numpy.sum( numpy.random.random( (2,N) )**2. , axis=0 ))<1 )\n",
    "    #\n",
    "    return 4.0*M/N\n"
   ]
  },
  {
   "cell_type": "markdown",
   "id": "fa829bc0",
   "metadata": {},
   "source": [
    "## numba\n",
    "- Use `@jit` to pre-compile the function.\n",
    "- This often works _REALLY_ well for simple, just-math functions. Numpy containers, internal functions, etc. have potential to confuse `numba`\n",
    "- So numba is often a way to make a really bad code (eg, a loop-loop), really good, but it can be complicated to make a pretty-good code much better.\n",
    "- `numba` also has some compile-time options, which we will show below. These include:\n",
    "  - Releasing the `GIL`\n",
    "  - (almost!) Automagical parallelization (much like `parfor`)\n",
    "- `numba` can be annoying to work with. There are cases where it will generate loads of warning messages, which are difficult to suppress.\n",
    "- You have to be realy careful to keep your parallel codes thread-safe\n"
   ]
  },
  {
   "cell_type": "code",
   "execution_count": 108,
   "id": "40edf8fb",
   "metadata": {},
   "outputs": [],
   "source": [
    "## Compile with Numba:\n",
    "#\n",
    "@numba.jit()\n",
    "def calc_pi_1(N):\n",
    "    M = 0\n",
    "    for i in range(int(N)):\n",
    "        x = random.uniform(-1, 1)\n",
    "        y = random.uniform(-1, 1)\n",
    "        if x**2 + y**2 < 1:\n",
    "            M += 1\n",
    "    return 4 * M / N\n",
    "\n",
    "@numba.jit(nopython=True)\n",
    "def calc_pi_2(N):\n",
    "    M = 0\n",
    "    for i in range(int(N)):\n",
    "        x = random.uniform(-1, 1)\n",
    "        y = random.uniform(-1, 1)\n",
    "        if x**2 + y**2 < 1:\n",
    "            M += 1\n",
    "    return 4 * M / N\n",
    "\n",
    "@numba.jit(nopython=True, nogil=True)\n",
    "def calc_pi_3(N):\n",
    "    M = 0\n",
    "    for i in range(int(N)):\n",
    "        x = random.uniform(-1, 1)\n",
    "        y = random.uniform(-1, 1)\n",
    "        if x**2 + y**2 < 1:\n",
    "            M += 1\n",
    "    return 4 * M / N\n",
    "#\n",
    "# How 'bout this?\n",
    "@numba.njit(parallel=True)\n",
    "def calc_pi_njp(N):\n",
    "    M = 0\n",
    "    for i in numba.prange(int(N)):\n",
    "        x = random.uniform(-1, 1)\n",
    "        y = random.uniform(-1, 1)\n",
    "        if x**2 + y**2 < 1:\n",
    "            M += 1\n",
    "    return 4 * M / N"
   ]
  },
  {
   "cell_type": "markdown",
   "id": "333bfe32",
   "metadata": {},
   "source": [
    "## Benchmark\n",
    "- Compare performance for loop-loop, vectorization, and versions of `numba.jit`\n",
    "- Note that `numba.jit` performs much better for this example. \n",
    "- There are likely some subtlties in the vectorization that can be resolved, but...\n",
    "- Mostly, this is because our kernel functions are just pure Python math, which are put through a simple loop If there were other libries included in those functions, eg. `random.random()` let alone anything `numpy`, `numba` would likely throw a bunch of warnings and the acceleration would be reduced.\n",
    "\n",
    "### Comments on benchmarking:\n",
    "- Straight forward, but can be tricky! Some things to look out for...\n",
    "- SW or HW solutions that \"help\" by cacheing results (maybe chanbe up the problem a little bit?)\n",
    "- For `numba` (and other optimizers), run a small job first, to be sure the code compiles\n",
    "- Is there some other overhead affecting your benchmark?\n",
    "- `%timeit` is pretty awesome, but beware artifacts from overhead...\n",
    "- Is your computer doing other things too?\n",
    "- Understand the problem and the code and stategize accordingly. Eg, is `range(10E7)` equivalent (better?) than `[f(10E7) for k in range(10)]`\n"
   ]
  },
  {
   "cell_type": "code",
   "execution_count": 91,
   "id": "d04e299a",
   "metadata": {},
   "outputs": [
    {
     "name": "stdout",
     "output_type": "stream",
     "text": [
      "f = calc_pi_loop_loop\n",
      "** dt: 7.562118053436279\n",
      "** pi: 3.1413434869252104\n",
      "\n",
      "f = calc_pi_vec\n",
      "** dt: 0.333071231842041\n",
      "** pi: 3.1424760287619855\n",
      "\n",
      "f = calc_pi_jit\n",
      "** dt: 0.11127710342407227\n",
      "** pi: 3.141971543211383\n",
      "\n",
      "f = calc_pi_jit_np\n",
      "** dt: 0.11020994186401367\n",
      "** pi: 3.141710829144585\n",
      "\n",
      "f = calc_pi_jit_ng\n",
      "** dt: 0.11571097373962402\n",
      "** pi: 3.1420836579163423\n",
      "\n",
      "f = calc_pi_jit_ng_np\n",
      "** dt: 0.11632013320922852\n",
      "** pi: 3.141117972993824\n",
      "\n",
      "f = calc_pi_njp\n",
      "** dt: 0.031295061111450195\n",
      "** pi: 3.142179886256091\n",
      "\n"
     ]
    }
   ],
   "source": [
    "# try the different jit-compile options:\n",
    "#\n",
    "N_max=1E7\n",
    "for f in (cp.calc_pi_loop_loop, cp.calc_pi_vec, cp.calc_pi_jit,\\\n",
    "          cp.calc_pi_jit_np, cp.calc_pi_jit_ng, cp.calc_pi_jit_ng_np,\\\n",
    "         calc_pi_njp):\n",
    "    # \n",
    "    # do a quick run, so we dont' count compile time.\n",
    "    dummy_var = f(500)\n",
    "    t1 = time.time()\n",
    "    #PIs = [[N_max, f(int(N_max))] for N_max in numpy.arange(1E3, 1E5, 1E4)]\n",
    "    pi = f(int(N_max + random.randint(1,10)))\n",
    "    print(f'f = {f.__name__}')\n",
    "    print(f'** dt: {time.time()-t1}')\n",
    "    print(f'** pi: {pi}\\n')\n",
    "    #\n",
    "#     print('** Pi vals: ')\n",
    "#     for n,pi in PIs:\n",
    "#         print(f'{n} :: {pi}')"
   ]
  },
  {
   "cell_type": "markdown",
   "id": "59e3870a",
   "metadata": {},
   "source": [
    "## `numba` parallel\n",
    "- Note the `numba.njit(parallel=True)` compilation/decoration example above.\n",
    "- For simple loops, this may be about as good as it gets\n",
    "- But as discussed, its applicaiton may be limited, and you have to be careful.\n"
   ]
  },
  {
   "cell_type": "markdown",
   "id": "452f25c1",
   "metadata": {},
   "source": [
    "## Embarrasingly parallel\n",
    "- Kind of a dumb example, unless we make the problem much bigger. Maybe Mandelbrot?\n",
    "- Alas... The idea is to run many independent instances, then separately collect and aggregate.\n",
    "- Consider a wrapper functoin:\n",
    "```\n",
    "    def calc_pi_n_write(f_pi=calc_pi_jit_np, Nits=int(1E7), fout_name=None):\n",
    "    '''\n",
    "    # comput pi and output to fout. We will use this as a simple demonstrator of emb. parallal.\n",
    "    '''\n",
    "    pi = f_pi(Nits)\n",
    "    #\n",
    "    if not fout_name is None:\n",
    "        with open(fout_name, 'a') as fout:\n",
    "            fout.write(f'pi:{pi}\\n')\n",
    "    return pi\n",
    "```\n",
    "- Which we can submit to the scheduler with something like this:\n",
    "```\n",
    "    #!/bin/bash\n",
    "    #\n",
    "    #SBATCH --job-name=e-p_compute_pi\n",
    "    #SBATCH --output=comp_pi.out\n",
    "    #SBATCH --error=comp_pi.err\n",
    "    #SBATCH --mem-per-cpu=1g\n",
    "    #SBATCH --cpus-per-task=1\n",
    "    #SBATCH --ntasks=1\n",
    "    #SBATCH --partition=serc,normal,owners\n",
    "    #SBATCH --time=00:10:00\n",
    "    #\n",
    "    module purge\n",
    "    #module load python/3.9\n",
    "    #module load py-sherlock/\n",
    "    module load anaconda/3.11\n",
    "    #\n",
    "    PI_OUTPUT=ep_pi.csv\n",
    "    #\n",
    "    python3 -c \"import calc_pi as cp;cp.calc_pi_n_write(fout_name='${PI_OUTPUT}')\"\n",
    "```\n",
    "- We can submit/run multiple instances by either:\n",
    "  - Submitting a whole bunch of individual jobs: This is sloppy, hard on the scheduler, and will make Kilian angry.\n",
    "  - Job array (eg, `--array=0-100%10`): This is usually optimal. We can submit LOTS of instances, but still control concurrent resource use with the `%` operator.\n",
    "    - `sbatch --array=0-16 e_paralell_pi.sh `\n",
    "  - `--ntasks`: This is not really what `--ntasks` was meant to do, but it will work. In this case, it will launch `--ntasks` instances, simultaneously and running in parallel.\n",
    "    - `sbatch --ntasks=16 e_paralell_pi.sh `\n",
    " \n",
    " "
   ]
  },
  {
   "cell_type": "markdown",
   "id": "d2e03f5b",
   "metadata": {},
   "source": [
    "## Parallel compute: Multiprocessing\n",
    "Parallel computation in Python is fundamentally limited by the Global Interpreter Lock (GIL), which basically limits Python to do one thing at a time. You can, for example, launch tasks as threads -- which in other envoronments might be allowed to run in parallel, but in Python, those threads run sequentially.\n",
    "\n",
    "There are two basic approaches to working around the GIL:\n",
    "1. Use (compiled) components that operate in parallel -- but appear effectively serial to Python\n",
    "2. Launch multiple instances of Python\n",
    "\n",
    "There are numerous examples of the first case. We have already seen that `numba` can do this. we also see this in many compilations of `numpy` matrix algebra. The built in Python module `multiprocessing` takes the second approach. Though it is limited to a single machine, `multiprocessing` in some ways resembles an MPI framework -- a comput job is broken up into pieces, then \"pickled\" (serialized) and run as independent processes; the GIL is maintained in each separeat thread.\n",
    "\n",
    "The main disadvantages of `multiprocessing` is that there is relatively high compute and memory overhead -- since the entire process has to be copied, and it can be programmatically complicated (nominally, simpler than most MPI programs, but more difficult than `parfor`). Another disadvantage is that -- as mentioned, it is limited to a single machine.\n",
    "\n",
    "On that latter note, consider the cousin library, `multiprocess` -- more or less a copy of `multiprocessing` that includes several multi-node options -- eg, an MPI capagle `Pool()` class. Note that multiprocessing, and especially MPI, or other multi-node capable options, appear to be a very active work in progress at this time (Oct 2023), so there might be other good options available (see for example `pip install mpipool`... I think).\n",
    "\n",
    "For now we focus on `multiprocessing`. Some of the salient components include:\n",
    "\n",
    "- Process(): The simplest example, nominally applies well to this example\n",
    "- Pool(): Sort of a dumb way to use a Pool(), but we're in the business of making examples\n",
    "- Queue(): I've never used a queueu, but...\n",
    "\n",
    "**NOTE:** Multiprocessing will _not_ work in notebooks. Parallelized functions must be off-loaded to a .py module, so that the function can be properly referenced and copied when it is serialized.\n"
   ]
  },
  {
   "cell_type": "markdown",
   "id": "05d9fa10",
   "metadata": {},
   "source": [
    "## MPP structural elements\n",
    "- Pipe()\n",
    "- Process()\n",
    "- Pool()\n",
    "- Other things too...\n",
    "- (NOTE: these codes are reproduced in an external module so they can be run in parallel)."
   ]
  },
  {
   "cell_type": "code",
   "execution_count": 97,
   "id": "29e4d4fc",
   "metadata": {},
   "outputs": [],
   "source": [
    "# MPP Process()\n",
    "#. it is possible that the syntax for this has changed, which is to say that this attempt and even the \n",
    "#. line-for-line example from the docs does not appear to run. \n",
    "# Note that these codes will not run in parallel, but their off-notebook counterparts will.\n",
    "#\n",
    "# Sometimes, there are lots of wrapper functions in parallel Python programming.\n",
    "\n",
    "# try this:\n",
    "def calc_pi_pipe(N, conn):\n",
    "    '''\n",
    "    # A simple demonstration of how to use Pipe() comm pairs. Basically replace or agment return x\n",
    "    # with conn.send(x)\n",
    "    '''\n",
    "    M = 0\n",
    "    for i in range(int(N)):\n",
    "        x = random.uniform(-1, 1)\n",
    "        y = random.uniform(-1, 1)\n",
    "        if x**2 + y**2 < 1:\n",
    "            M += 1\n",
    "    #return 4 * M / N\n",
    "    conn.send([N, 4*M/N])\n",
    "    conn.close()\n",
    "\n",
    "def pipe_wrapper(f, n_max, conn):\n",
    "    '''\n",
    "    # If you have a workiong function f , you might run it with a process (or do something else)\n",
    "    # by wrapping it in a function like this. Note that this looks super generalized, but it actually\n",
    "    # has a very specific call signature.\n",
    "    # more versatile wrappers use the *args, **kwargs inputs, but this can create its own issues, so...\n",
    "    '''\n",
    "    pi = f(n_max)\n",
    "    #print('*** ', pi)\n",
    "    conn.send([n_max, pi])\n",
    "    conn.close()\n",
    "    #\n",
    "    #return None\n",
    "    \n",
    "\n",
    "#def f_process(f=None, n_processes=1, N_max=1000, *args):\n",
    "def f_process(f=None, n_processes=1, N_max=1000):\n",
    "    '''\n",
    "    # A quick-n-dirty way to wrap a function f so we can run it as a Process()\n",
    "    '''\n",
    "    # This is a sort of stupid way to write this function, but it gets the job done.\n",
    "    # production applications will probably be either much better generalized or much more specific.\n",
    "    #\n",
    "    #args = [f, N_max] + list(args)\n",
    "    #\n",
    "    pipes = [mpp.Pipe() for k in range(n_processes)]\n",
    "    Ps = [mpp.Process(target=pipe_wrapper, args=tuple([f, N_max, p2])) for p1,p2 in pipes]\n",
    "    #Ps = [mpp.Process(target=calc_pi_pipe, args=tuple([N_max, p2])) for p1,p2 in pipes]\n",
    "    #\n",
    "    for (p1, p2), p in zip(pipes, Ps):\n",
    "        print(\"*** Starting process...\", p, p1, p2)\n",
    "        # NOTE: this will not do anything if f (or the rest of this???) is in a notebook.\n",
    "        #p.start()\n",
    "        #p.join()\n",
    "        # this will work in a notebook, but will run serially.\n",
    "        p.run()\n",
    "        #p1.recv()\n",
    "        \n",
    "\n",
    "        \n",
    "#    for p in Ps:\n",
    "#        p.join()\n",
    "#     print('*** jobs started, now recv()')\n",
    "#     for p in Ps:\n",
    "#         p.close()\n",
    "#     pis = [p1.recv() for p1, p2 in pipes]\n",
    "    #\n",
    "    pis = [p1.recv() for p1, p2 in pipes]\n",
    "    #\n",
    "    # Ugh...\n",
    "    # TODO: \n",
    "    #. to get results from this, each process either needs to point somewhere for an output,\n",
    "    #. you can pass a queue a parameter to collect output, our you have to set up Pipe() objects.\n",
    "    #Results = [p.get() for p in Ps]\n",
    "    #\n",
    "    #return Results\n",
    "    \n",
    "    return pis\n",
    "    \n",
    "    "
   ]
  },
  {
   "cell_type": "markdown",
   "id": "ec395380",
   "metadata": {},
   "source": [
    "### Examples of using Process(), Pipe(), etc.\n",
    "- These do not actually parallelize...\n",
    "- But we illustrate how to use some of these classes and functions.\n"
   ]
  },
  {
   "cell_type": "code",
   "execution_count": null,
   "id": "ccd27c8e",
   "metadata": {},
   "outputs": [],
   "source": [
    "#pi = f_process(calc_pi_nogil, 4, N_max=10000)\n",
    "pi = f_process(calc_pi_vec, 4, N_max=10000)\n",
    "#\n",
    "\n",
    "p1, p2 = mpp.Pipe()\n",
    "print('** ', pipe_wrapper(calc_pi_vec, int(1E7), p2))\n",
    "print('** **: ', p1.recv())\n",
    "\n",
    "p1,p2 = mpp.Pipe()\n",
    "print('** ', calc_pi_pipe(int(1E7), p2))\n",
    "#print('** ', pipe_wrapper(calc_pi_vec, 500, p2))\n",
    "print('** **: ', p1.recv())\n"
   ]
  },
  {
   "cell_type": "markdown",
   "id": "f33a7f7c",
   "metadata": {},
   "source": [
    "### Example: Use a generalized wrapper function to run one of several pi calculations in a Process()\n",
    "- Note the use of: *args, **kwargs"
   ]
  },
  {
   "cell_type": "code",
   "execution_count": 112,
   "id": "47a46b55",
   "metadata": {},
   "outputs": [
    {
     "name": "stdout",
     "output_type": "stream",
     "text": [
      "** f = <function calc_pi_loop_loop at 0x7fa3f1d89dc0>\n",
      "*** pi=3.1421319203050615, dt=7.4106199741363525\n",
      "\n",
      "** f = <function calc_pi_vec at 0x7fa3f2dc2dc0>\n",
      "*** pi=3.1406428921356127, dt=0.30223894119262695\n",
      "\n",
      "** f = CPUDispatcher(<function calc_pi_njp at 0x7fa3f3292c10>)\n",
      "*** pi=3.141768205335794, dt=0.029903173446655273\n",
      "\n",
      "** f = CPUDispatcher(<function calc_pi_njp at 0x7fa3efe559d0>)\n",
      "*** pi=3.141025580769538, dt=0.028474807739257812\n",
      "\n"
     ]
    }
   ],
   "source": [
    "# Another example of a simple wrapper script:\n",
    "# run function f() in a Process(); pass *args and **kwargs; return output via a Pipe()\n",
    "#\n",
    "N_max = int(1E7)\n",
    "def f_pipe(f, pipe, *args, **kwargs):\n",
    "    x = f(*args, **kwargs)\n",
    "    pipe.send(x)\n",
    "    pipe.close()\n",
    "\n",
    "for f in cp.calc_pi_loop_loop, cp.calc_pi_vec, calc_pi_njp, cp.calc_pi_njp:\n",
    "    # create a comm/Pipe() pair:\n",
    "    p1, p2 = mpp.Pipe()\n",
    "    t1 = time.time()\n",
    "    #P = mpp.Process(target=f_pipe, args=[cp.calc_pi_loop_loop, p2, int(N_max)])\n",
    "    P = mpp.Process(target=f_pipe, args=[f, p2, int(N_max + random.randint(1,100))])\n",
    "    #\n",
    "    # NOTE: in our notebook, we use P.run(), which is serial. For parallel function,\n",
    "    #  we need to move the code to a .py module and use P.start()\n",
    "    P.run()\n",
    "    pi = p1.recv()\n",
    "\n",
    "    P.close()\n",
    "    p1.close()\n",
    "    p2.close()\n",
    "    #\n",
    "    print(f'** f = {f}')\n",
    "    print(f'*** pi={pi}, dt={time.time()-t1}\\n' )\n",
    "#"
   ]
  },
  {
   "cell_type": "code",
   "execution_count": null,
   "id": "efae7220",
   "metadata": {},
   "outputs": [],
   "source": []
  },
  {
   "cell_type": "code",
   "execution_count": 52,
   "id": "cec6aec3",
   "metadata": {},
   "outputs": [
    {
     "name": "stdout",
     "output_type": "stream",
     "text": [
      "***  3.141894\n",
      "*** 4cpus [3.1413316]\n",
      "*** 1cpu 3.1409176\n",
      "** using calc_pi() with the recursive bit\n",
      "*** [1]: 3.1422516\n",
      "*** [2]: 3.1419764\n",
      "*** [3]: 3.1409627140962715\n",
      "*** [4]: 3.1417336000000002\n"
     ]
    }
   ],
   "source": [
    "N=int(1E7)\n",
    "print('*** ', cp.calc_pi_jit(N))\n",
    "print('*** 4cpus', cp.pool_wrapper(f=cp.calc_pi_jit, ncpus=4, f_agg=numpy.mean, N=N))\n",
    "print('*** 1cpu', cp.pool_wrapper(f=cp.calc_pi_jit, ncpus=1, N=N))\n",
    "#\n",
    "# now, try the recursive wrapper:\n",
    "print('** using calc_pi() with the recursive bit')\n",
    "for n in range(1,5):\n",
    "    print(f'*** [{n}]: {cp.calc_pi(N, n)}')\n",
    "\n"
   ]
  },
  {
   "cell_type": "code",
   "execution_count": null,
   "id": "b05523c2",
   "metadata": {},
   "outputs": [],
   "source": []
  },
  {
   "cell_type": "code",
   "execution_count": null,
   "id": "d4da23b2",
   "metadata": {},
   "outputs": [],
   "source": []
  },
  {
   "cell_type": "code",
   "execution_count": null,
   "id": "9ceb9703",
   "metadata": {},
   "outputs": [],
   "source": []
  },
  {
   "cell_type": "code",
   "execution_count": null,
   "id": "e432a8d4",
   "metadata": {},
   "outputs": [],
   "source": [
    "# Now, try with the nested recursive bit:\n",
    "t1 = time.time()\n",
    "pi_v = cp.calc_pi_vec(N_max*10)\n",
    "print(f'vector ({pi_v}):: {time.time()-t1}')\n",
    "\n",
    "t1 = time.time()\n",
    "pi_vr = cp.calc_pi_vec_mpp(N_max*10, ncpus=4)\n",
    "print(f'vector_mpp ({pi_vr}):: {time.time()-t1}')\n",
    "#"
   ]
  },
  {
   "cell_type": "code",
   "execution_count": 70,
   "id": "02e44649",
   "metadata": {},
   "outputs": [
    {
     "name": "stdout",
     "output_type": "stream",
     "text": [
      "pool[2]: 6.28344\n",
      "pool[2]: 6.2815840000000005\n",
      "pool[2]: 6.277407999999999\n",
      "pool[2]: 6.283088\n",
      "pool[2]: 6.290144\n",
      "pool[2]: 6.2790479999999995\n",
      "pool[2]: 6.282056\n",
      "pool[2]: 6.282696\n",
      "1.45 s ± 13.9 ms per loop (mean ± std. dev. of 7 runs, 1 loop each)\n",
      "pool[3]: 9.433653433653433\n",
      "pool[3]: 9.41874941874942\n",
      "pool[3]: 9.424245424245424\n",
      "pool[3]: 9.429777429777431\n",
      "pool[3]: 9.42063342063342\n",
      "pool[3]: 9.427713427713428\n",
      "pool[3]: 9.42942942942943\n",
      "pool[3]: 9.423633423633424\n",
      "1.74 s ± 212 ms per loop (mean ± std. dev. of 7 runs, 1 loop each)\n",
      "pool[4]: 12.556607999999999\n",
      "pool[4]: 12.569152\n",
      "pool[4]: 12.559328\n",
      "pool[4]: 12.56368\n",
      "pool[4]: 12.572464\n",
      "pool[4]: 12.562032\n",
      "pool[4]: 12.571424\n",
      "pool[4]: 12.571488\n",
      "1.77 s ± 38.6 ms per loop (mean ± std. dev. of 7 runs, 1 loop each)\n"
     ]
    }
   ],
   "source": [
    "# try the jit recursive bit and introduce timeit:\n",
    "for n in range(1,5):\n",
    "    #%timeit print(f'mpp[{n}]: {cp.calc_pi(1E6, n)}')\n",
    "    %timeit print(f'pool[{n}]: {cp.calc_pi_pool(ncpu=n, N_max=int(1E6/n))}')\n",
    "#"
   ]
  },
  {
   "cell_type": "code",
   "execution_count": 77,
   "id": "d054c9ca",
   "metadata": {},
   "outputs": [
    {
     "name": "stdout",
     "output_type": "stream",
     "text": [
      "*** mpp.cpu_count(): 8\n",
      "mpp[1]: 3.1413636\n",
      "** time[1]: 7.235046863555908\n",
      "pool[1]: 3.1415188\n",
      "** time[1]: 8.147811651229858\n",
      "\n",
      "\n",
      "mpp[2]: 3.1406739999999997\n",
      "** time[2]: 2.8564717769622803\n",
      "pool[2]: 3.1426856\n",
      "** time[2]: 4.979939937591553\n",
      "\n",
      "\n",
      "mpp[3]: 3.1423607142360717\n",
      "** time[3]: 4.27752423286438\n",
      "pool[3]: 3.1405983140598313\n",
      "** time[3]: 4.390532732009888\n",
      "\n",
      "\n",
      "mpp[4]: 3.1418424\n",
      "** time[4]: 5.45414400100708\n",
      "pool[4]: 3.1426004\n",
      "** time[4]: 3.8474230766296387\n",
      "\n",
      "\n",
      "mpp[5]: 3.1414239999999998\n",
      "** time[5]: 6.515172958374023\n",
      "pool[5]: 3.1422803999999998\n",
      "** time[5]: 4.948551177978516\n",
      "\n",
      "\n",
      "mpp[6]: 3.141696056678423\n",
      "** time[6]: 7.768233776092529\n",
      "pool[6]: 3.1418792567517024\n",
      "** time[6]: 4.1648828983306885\n",
      "\n",
      "\n"
     ]
    }
   ],
   "source": [
    "# try the jit recursive bit and introduce timeit:\n",
    "print(f'*** mpp.cpu_count(): {mpp.cpu_count()}')\n",
    "NN = int(1E7)\n",
    "for n in range(1,7):\n",
    "    t0 = time.time()\n",
    "    print(f'mpp[{n}]: {cp.calc_pi(NN, n)}')\n",
    "    print(f'** time[{n}]: {time.time()-t0}')\n",
    "    #\n",
    "    t0 = time.time()\n",
    "    print(f'pool[{n}]: {cp.calc_pi_pool(ncpu=n, N_max=int(NN/n))}')\n",
    "    print(f'** time[{n}]: {time.time()-t0}')\n",
    "    print('\\n')\n",
    "#"
   ]
  },
  {
   "cell_type": "code",
   "execution_count": 78,
   "id": "29ffadf9",
   "metadata": {},
   "outputs": [
    {
     "name": "stdout",
     "output_type": "stream",
     "text": [
      "*** pi=3.1420792, dt=7.182585716247559\n",
      "*** Single process, off-loaded:\n",
      "*** pi=3.141752, dt=8.994734764099121\n",
      "*** For multiple (4) processes?\n",
      "** start 0\n",
      "*** is_alive:  True\n",
      "** start 1\n",
      "*** is_alive:  True\n",
      "** start 2\n",
      "*** is_alive:  True\n",
      "** start 3\n",
      "*** is_alive:  True\n",
      "*** [3.1415904, 3.1430112, 3.1409552, 3.1414448], 3.1417504000000003, 3.9756860733032227\n"
     ]
    }
   ],
   "source": [
    "N_max = int(1E7)\n",
    "f_pi = cp.calc_pi_loop_loop\n",
    "#f_pi = cp.calc_pi_vec\n",
    "t1 = time.time()\n",
    "pi=f_pi(N_max)\n",
    "print(f'*** pi={pi}, dt={time.time()-t1}' )\n",
    "#\n",
    "print('*** Single process, off-loaded:')\n",
    "# Now, do a single off-loaded process, for demo purposes\n",
    "p1, p2 = mpp.Pipe()\n",
    "t1 = time.time()\n",
    "P = mpp.Process(target=cp.f_pipe, args=[cp.calc_pi_loop_loop, p2, int(N_max)])\n",
    "#P.run()\n",
    "#print(\"now start...\")\n",
    "P.start()\n",
    "#print(\"now join...\")\n",
    "P.join()\n",
    "pi2 = p1.recv()\n",
    "#print(\" should be receivec...\")\n",
    "#\n",
    "P.close()\n",
    "p1.close()\n",
    "p2.close()\n",
    "\n",
    "print(f'*** pi={pi2}, dt={time.time()-t1}' )\n",
    "#\n",
    "# now, add some more processes:\n",
    "# NOTE: I think that, in order to start() a process, it must be defined in an external module,\n",
    "# \"accessible by __main__\". It's not totally clear what the requirement is...\n",
    "ncpus = 4\n",
    "print(f'*** For multiple ({ncpus}) processes?')\n",
    "t1=time.time()\n",
    "\n",
    "pipes = [mpp.Pipe() for k in range(ncpus)]\n",
    "Procs = [mpp.Process(target=cp.f_pipe, args=[cp.calc_pi_loop_loop, p2, int(N_max/ncpus)]) for p1,p2 in pipes]\n",
    "#\n",
    "for k,P in enumerate(Procs):\n",
    "    print(f'** start {k}')\n",
    "    P.start()\n",
    "    print('*** is_alive: ', P.is_alive())\n",
    "    #P.join()\n",
    "    #print('*** is_alive: ', P.is_alive())\n",
    "    #P.run()\n",
    "    #print('*** is_alive: ', P.is_alive())\n",
    "for P in Procs:\n",
    "    P.join()\n",
    "    \n",
    "pis = [p1.recv() for p1,p2 in pipes]\n",
    "#\n",
    "for (p1,p2),P in zip(pipes,Procs):\n",
    "    p1.close()\n",
    "    p2.close()\n",
    "    P.close()\n",
    "\n",
    "print(f'*** {pis}, {numpy.mean(pis)}, {time.time()-t1}')"
   ]
  },
  {
   "cell_type": "code",
   "execution_count": 141,
   "id": "3536cd6f",
   "metadata": {},
   "outputs": [
    {
     "name": "stdout",
     "output_type": "stream",
     "text": [
      "** DEBUG:  300 300\n"
     ]
    }
   ],
   "source": [
    "mb_set = cmb.mandelbrotter(d_im=.01, d_re=.01)"
   ]
  },
  {
   "cell_type": "code",
   "execution_count": 142,
   "id": "9c105e9e",
   "metadata": {},
   "outputs": [
    {
     "data": {
      "text/plain": [
       "<matplotlib.image.AxesImage at 0x7fa3f30b8160>"
      ]
     },
     "execution_count": 142,
     "metadata": {},
     "output_type": "execute_result"
    },
    {
     "data": {
      "image/png": "[encoded data removed]",
      "text/plain": [
       "<Figure size 720x720 with 1 Axes>"
      ]
     },
     "metadata": {
      "needs_background": "light"
     },
     "output_type": "display_data"
    }
   ],
   "source": [
    "fig, ax = plt.subplots(1, 1, figsize=(10, 10))\n",
    "#plot_extent = (width + 1j * height) * scale\n",
    "#z1 = center - plot_extent / 2\n",
    "#z2 = z1 + plot_extent\n",
    "\n",
    "#ax.imshow(mb_set['Ks']**(1/3), origin='lower', extent=(z1.real, z2.real, z1.imag, z2.imag))\n",
    "ax.imshow(mb_set['Ks']**(1/3), origin='lower')\n",
    "\n",
    "#ax.set_xlabel(\"$\\Re(c)$\")\n",
    "#ax.set_ylabel(\"$\\Im(c)$\")"
   ]
  },
  {
   "cell_type": "code",
   "execution_count": null,
   "id": "7504e76d",
   "metadata": {},
   "outputs": [],
   "source": []
  }
 ],
 "metadata": {
  "kernelspec": {
   "display_name": "Python 3",
   "language": "python",
   "name": "python3"
  },
  "language_info": {
   "codemirror_mode": {
    "name": "ipython",
    "version": 3
   },
   "file_extension": ".py",
   "mimetype": "text/x-python",
   "name": "python",
   "nbconvert_exporter": "python",
   "pygments_lexer": "ipython3",
   "version": "3.8.8"
  }
 },
 "nbformat": 4,
 "nbformat_minor": 5
}
